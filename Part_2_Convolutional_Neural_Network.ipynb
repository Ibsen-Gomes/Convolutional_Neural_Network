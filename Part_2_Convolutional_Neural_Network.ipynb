{
  "nbformat": 4,
  "nbformat_minor": 0,
  "metadata": {
    "colab": {
      "provenance": [],
      "authorship_tag": "ABX9TyOFI/saxJfbfpoXwcass/Yv",
      "include_colab_link": true
    },
    "kernelspec": {
      "name": "python3",
      "display_name": "Python 3"
    },
    "language_info": {
      "name": "python"
    }
  },
  "cells": [
    {
      "cell_type": "markdown",
      "metadata": {
        "id": "view-in-github",
        "colab_type": "text"
      },
      "source": [
        "<a href=\"https://colab.research.google.com/github/Ibsen-Gomes/Deep_Learning_Convolutional_Neural_Network/blob/main/Part_2_Convolutional_Neural_Network.ipynb\" target=\"_parent\"><img src=\"https://colab.research.google.com/assets/colab-badge.svg\" alt=\"Open In Colab\"/></a>"
      ]
    },
    {
      "cell_type": "markdown",
      "source": [
        "# Redes neurais convolucionais para classificação de gatos e cachorros."
      ],
      "metadata": {
        "id": "fJt2shutuON_"
      }
    },
    {
      "cell_type": "code",
      "source": [
        "import torch\n",
        "import torch.nn as nn\n",
        "from torch import optim\n",
        "import torch.nn.functional as F\n",
        "import numpy as np\n",
        "import matplotlib.pyplot as plt\n",
        "from torchvision import datasets\n",
        "import torchvision.transforms as transforms\n",
        "torch.__version__"
      ],
      "metadata": {
        "colab": {
          "base_uri": "https://localhost:8080/",
          "height": 35
        },
        "id": "4m-eMpnzuRMB",
        "outputId": "10c5fcb9-892e-4b74-abca-1d92c2630e7d"
      },
      "execution_count": 11,
      "outputs": [
        {
          "output_type": "execute_result",
          "data": {
            "text/plain": [
              "'2.0.1+cu118'"
            ],
            "application/vnd.google.colaboratory.intrinsic+json": {
              "type": "string"
            }
          },
          "metadata": {},
          "execution_count": 11
        }
      ]
    },
    {
      "cell_type": "code",
      "source": [
        "torch.manual_seed(42)"
      ],
      "metadata": {
        "colab": {
          "base_uri": "https://localhost:8080/"
        },
        "id": "CDDYHM8puYM1",
        "outputId": "1b445848-bbe7-4257-cf92-0d5e0214a174"
      },
      "execution_count": 12,
      "outputs": [
        {
          "output_type": "execute_result",
          "data": {
            "text/plain": [
              "<torch._C.Generator at 0x78e089b116b0>"
            ]
          },
          "metadata": {},
          "execution_count": 12
        }
      ]
    },
    {
      "cell_type": "markdown",
      "source": [
        "### Construção do modelo:"
      ],
      "metadata": {
        "id": "znVvirXHuZw_"
      }
    },
    {
      "cell_type": "code",
      "source": [
        "classificador = nn.Sequential(nn.Conv2d(in_channels=3, # imagems coloridas = 3 canais RGB\n",
        "                                        out_channels=32, # 32 filtros\n",
        "                                        kernel_size=3), # matrix 3x3\n",
        "                              nn.ReLU(),\n",
        "                              nn.BatchNorm2d(num_features=32),  # normalização nas camadas ocultas\n",
        "                              nn.MaxPool2d(kernel_size=2), # pooling com matrix 2x2\n",
        "                              nn.Conv2d(32, 32, 3), #chegando 32 filtros + gerando outros 32 filtros + matrix 3x3 (kernel)\n",
        "                              nn.ReLU(),\n",
        "                              nn.BatchNorm2d(num_features=32),\n",
        "                              nn.MaxPool2d(kernel_size=2),\n",
        "                              nn.Flatten(), #transformnado a imagem em um vetor pra a camada densa\n",
        "\n",
        "                              # Camada densa:\n",
        "\n",
        "                              ### 1° camada:\n",
        "                              nn.Linear(in_features=14*14*32, out_features=128), # 14x14x32\n",
        "                              nn.ReLU(),\n",
        "                              nn.Dropout(0.2),\n",
        "\n",
        "                              ### 2° camada:\n",
        "                              nn.Linear(128, 128),\n",
        "                              nn.ReLU(),\n",
        "                              nn.Dropout(0.2),\n",
        "\n",
        "                              # saída:\n",
        "                              nn.Linear(128, 1),#return 1 pq é um probelma de classificação binária\n",
        "                              nn.Sigmoid() # p/ retornar o valor da robabilidade (cahorro ou gato)\n",
        "                              )\n",
        "\n",
        "\n"
      ],
      "metadata": {
        "id": "JRKvHmSdufiR"
      },
      "execution_count": 13,
      "outputs": []
    },
    {
      "cell_type": "code",
      "source": [
        "criterion = nn.BCELoss() # binary cross entropy\n",
        "optimizer = optim.Adam(classificador.parameters())"
      ],
      "metadata": {
        "id": "DNOZeXhhzGAf"
      },
      "execution_count": 14,
      "outputs": []
    },
    {
      "cell_type": "code",
      "source": [],
      "metadata": {
        "id": "a-uEoY9xzV_3"
      },
      "execution_count": 14,
      "outputs": []
    },
    {
      "cell_type": "markdown",
      "source": [
        "### Base de dados:"
      ],
      "metadata": {
        "id": "0Vy3V_ikzXQO"
      }
    },
    {
      "cell_type": "code",
      "source": [
        "# Criando um gdrive:\n",
        "from google.colab import drive\n",
        "drive.mount('/content/dgrive')"
      ],
      "metadata": {
        "id": "TgpkORXVzYjh",
        "colab": {
          "base_uri": "https://localhost:8080/"
        },
        "outputId": "ea2d953f-f354-4c73-ed98-7b67f053c8c2"
      },
      "execution_count": 15,
      "outputs": [
        {
          "output_type": "stream",
          "name": "stdout",
          "text": [
            "Drive already mounted at /content/dgrive; to attempt to forcibly remount, call drive.mount(\"/content/dgrive\", force_remount=True).\n"
          ]
        }
      ]
    },
    {
      "cell_type": "code",
      "source": [
        "import zipfile"
      ],
      "metadata": {
        "id": "myygH8owHIPK"
      },
      "execution_count": 16,
      "outputs": []
    },
    {
      "cell_type": "code",
      "source": [
        "# descompactando pasta com os aruivos de treinamento e teste:\n",
        "\n",
        "path = '/content/dgrive/MyDrive/Deep_learning/dataset.zip'\n",
        "zip_object = zipfile.ZipFile(file=path, mode='r')\n",
        "zip_object.extractall('./')\n",
        "zip_object.close()"
      ],
      "metadata": {
        "id": "hnNInW85FMge"
      },
      "execution_count": 18,
      "outputs": []
    },
    {
      "cell_type": "code",
      "source": [
        "data_dir_train = '/content/dataset/training_set'\n",
        "data_dir_test  = '/content/dataset/test_set'"
      ],
      "metadata": {
        "id": "JXzXBkY9GAhq"
      },
      "execution_count": 19,
      "outputs": []
    },
    {
      "cell_type": "code",
      "source": [
        "# Transformador para a base de dados de treinamento:\n",
        "\n",
        "transform_train = transforms.Compose(\n",
        "    [transforms.Resize([64, 64]),\n",
        "     transforms.RandomHorizontalFlip(),\n",
        "     transforms.RandomAffine(degrees=7, translate=(0, 0.07,), shear=0.2, scale=(1, 1.2)),\n",
        "     transforms.ToTensor()\n",
        "     ]\n",
        "\n",
        ")"
      ],
      "metadata": {
        "id": "m6fVX63GJY_7"
      },
      "execution_count": 21,
      "outputs": []
    },
    {
      "cell_type": "code",
      "source": [
        "# Transformador para a base de dados de teste:\n",
        "\n",
        "transform_test = transforms.Compose(\n",
        "    [transforms.Resize([64, 64]),\n",
        "     transforms.ToTensor()\n",
        "     ]\n",
        "\n",
        ")"
      ],
      "metadata": {
        "id": "BTBBf6esKpDI"
      },
      "execution_count": 22,
      "outputs": []
    },
    {
      "cell_type": "code",
      "source": [
        "# Criação da base de dados:\n",
        "\n",
        "train_dataset = datasets.ImageFolder(data_dir_train, transform=transform_train)"
      ],
      "metadata": {
        "id": "n8YkQkDsK47s"
      },
      "execution_count": 23,
      "outputs": []
    },
    {
      "cell_type": "code",
      "source": [
        "# Mostra as transformações setadas:\n",
        "train_dataset"
      ],
      "metadata": {
        "colab": {
          "base_uri": "https://localhost:8080/"
        },
        "id": "Z7z49xTQLMXX",
        "outputId": "dd5d84ac-4b73-422f-af5d-5ded235fde05"
      },
      "execution_count": 24,
      "outputs": [
        {
          "output_type": "execute_result",
          "data": {
            "text/plain": [
              "Dataset ImageFolder\n",
              "    Number of datapoints: 4000\n",
              "    Root location: /content/dataset/training_set\n",
              "    StandardTransform\n",
              "Transform: Compose(\n",
              "               Resize(size=[64, 64], interpolation=bilinear, max_size=None, antialias=warn)\n",
              "               RandomHorizontalFlip(p=0.5)\n",
              "               RandomAffine(degrees=[-7.0, 7.0], translate=(0, 0.07), scale=(1, 1.2), shear=[-0.2, 0.2])\n",
              "               ToTensor()\n",
              "           )"
            ]
          },
          "metadata": {},
          "execution_count": 24
        }
      ]
    },
    {
      "cell_type": "code",
      "source": [
        "train_loader = torch.utils.data.DataLoader(train_dataset, batch_size=32, shuffle=True)"
      ],
      "metadata": {
        "id": "plQdI1ppLZeg"
      },
      "execution_count": 26,
      "outputs": []
    },
    {
      "cell_type": "code",
      "source": [
        "# Agora para teste:\n",
        "\n",
        "test_dataset = datasets.ImageFolder(data_dir_test, transform=transform_test)"
      ],
      "metadata": {
        "id": "BrW9E9JALnzj"
      },
      "execution_count": 27,
      "outputs": []
    },
    {
      "cell_type": "code",
      "source": [
        "# Mostra as transformações setadas:\n",
        "test_dataset"
      ],
      "metadata": {
        "colab": {
          "base_uri": "https://localhost:8080/"
        },
        "id": "jCYRTbCrL1yk",
        "outputId": "03228ac5-db32-4ca7-f29b-b33f732e0dea"
      },
      "execution_count": 28,
      "outputs": [
        {
          "output_type": "execute_result",
          "data": {
            "text/plain": [
              "Dataset ImageFolder\n",
              "    Number of datapoints: 1000\n",
              "    Root location: /content/dataset/test_set\n",
              "    StandardTransform\n",
              "Transform: Compose(\n",
              "               Resize(size=[64, 64], interpolation=bilinear, max_size=None, antialias=warn)\n",
              "               ToTensor()\n",
              "           )"
            ]
          },
          "metadata": {},
          "execution_count": 28
        }
      ]
    },
    {
      "cell_type": "code",
      "source": [
        "test_loader = torch.utils.data.DataLoader(test_dataset, batch_size=32, shuffle=True)"
      ],
      "metadata": {
        "id": "jF2SQiimL_r6"
      },
      "execution_count": 29,
      "outputs": []
    },
    {
      "cell_type": "markdown",
      "source": [
        "### Treinamento:"
      ],
      "metadata": {
        "id": "lxAv8w_QI5XT"
      }
    },
    {
      "cell_type": "code",
      "source": [],
      "metadata": {
        "id": "lDa8HU7EI7kH"
      },
      "execution_count": null,
      "outputs": []
    }
  ]
}